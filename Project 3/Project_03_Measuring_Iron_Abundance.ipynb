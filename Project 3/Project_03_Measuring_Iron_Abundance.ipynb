{
 "cells": [
  {
   "cell_type": "code",
   "execution_count": 2,
   "metadata": {},
   "outputs": [],
   "source": [
    "import numpy as np\n",
    "import matplotlib.pyplot as plt\n",
    "import astropy.io.ascii "
   ]
  },
  {
   "cell_type": "code",
   "execution_count": 3,
   "metadata": {},
   "outputs": [],
   "source": [
    "spec = astropy.io.ascii.read(\"Mg5168.txt\")"
   ]
  },
  {
   "cell_type": "code",
   "execution_count": 28,
   "metadata": {},
   "outputs": [
    {
     "data": {
      "text/plain": [
       "Text(0, 0.5, 'Normalized Flux')"
      ]
     },
     "execution_count": 28,
     "metadata": {},
     "output_type": "execute_result"
    },
    {
     "data": {
      "image/png": "[encoded data removed]",
      "text/plain": [
       "<Figure size 432x288 with 1 Axes>"
      ]
     },
     "metadata": {
      "needs_background": "light"
     },
     "output_type": "display_data"
    }
   ],
   "source": [
    "plt.plot(spec[\"col1\"], spec[\"col2\"])\n",
    "plt.vlines(5167.3, 0, 1, color=\"red\")\n",
    "plt.vlines(5167.95, 0, 1, color=\"red\")\n",
    "plt.xlim(5163, 5170)\n",
    "plt.xlabel(\"Wavelength [Angstrom]\")\n",
    "plt.ylabel(\"Normalized Flux\")"
   ]
  },
  {
   "cell_type": "code",
   "execution_count": 29,
   "metadata": {},
   "outputs": [],
   "source": [
    "# This is the FeI emission for 5166.3 according to the solar survey archive\n",
    "# All of the values in his file seem slightly shifted to the right\n",
    "\n",
    "#Picked width values\n",
    "wval1 = 5167.3\n",
    "wval2 = 5167.95"
   ]
  },
  {
   "cell_type": "code",
   "execution_count": 30,
   "metadata": {},
   "outputs": [
    {
     "name": "stdout",
     "output_type": "stream",
     "text": [
      "equivalent width (ew) =  0.15267944786179077  Angstrom\n"
     ]
    }
   ],
   "source": [
    "ind = np.where((spec[\"col1\"] < wval2) & (spec[\"col1\"] > wval1))\n",
    "inc = np.median(np.diff(spec[\"col1\"][ind]))\n",
    "ew = np.sum(1 - spec[\"col2\"][ind]) * inc \n",
    "print(\"Equivalent width (ew) = \", ew, \" Angstrom\")"
   ]
  },
  {
   "cell_type": "code",
   "execution_count": 31,
   "metadata": {},
   "outputs": [
    {
     "data": {
      "text/plain": [
       "-4.529625087839355"
      ]
     },
     "execution_count": 31,
     "metadata": {},
     "output_type": "execute_result"
    }
   ],
   "source": [
    "# Log value with the ew divided by the wavelength of the line\n",
    "np.log10(0.1526 / 5166.3)"
   ]
  },
  {
   "cell_type": "markdown",
   "metadata": {},
   "source": [
    "\n",
    "<img src=\"http://spiff.rit.edu/classes/phys440/lectures/curve/gcurve.jpg\" width=\"600 pt\">"
   ]
  },
  {
   "cell_type": "code",
   "execution_count": 42,
   "metadata": {},
   "outputs": [
    {
     "name": "stdout",
     "output_type": "stream",
     "text": [
      "3.4288157428492267\n"
     ]
    }
   ],
   "source": [
    "#With a log on the y-axis of -4.52, we get a value on the x-axis approximately 13.5\n",
    "\n",
    "# According to the solar survey Archive, the oscillator strength is\n",
    "f = 0.00000709\n",
    "\n",
    "N = 10**13.4 / f / (5166.3 / 5000) \n",
    "# N = 3.43 * 10^18\n",
    "\n",
    "N1 = 3.43*10**18"
   ]
  },
  {
   "cell_type": "markdown",
   "metadata": {},
   "source": [
    " [Site for transmission](https://physics.nist.gov/cgi-bin/ASD/lines1.pl?spectra=Na&limits_type=0&low_w=588.9&upp_w=589.1&unit=1&submit=Retrieve+Data&de=0&format=0&line_out=0&en_unit=0&output=0&bibrefs=1&page_size=15&show_obs_wl=1&show_calc_wl=1&unc_out=1&order_out=0&max_low_enrg=&show_av=2&max_upp_enrg=&tsb_value=0&min_str=&A_out=0&intens_out=on&max_str=&allowed_out=1&forbid_out=1&min_accur=&min_intens=&conf_out=on&term_out=on&enrg_out=on&J_out=on)"
   ]
  },
  {
   "cell_type": "markdown",
   "metadata": {},
   "source": [
    "### 1. Ratio of ground state to excited state Fe atoms $\\frac{N_2}{N_1} = \\frac{g_2}{g_1}\\exp\\left({-\\frac{E_2 - E_1}{kT}}\\right)$"
   ]
  },
  {
   "cell_type": "code",
   "execution_count": 47,
   "metadata": {},
   "outputs": [
    {
     "name": "stdout",
     "output_type": "stream",
     "text": [
      "Ratio of Fe atoms in excited to ground state: 0.02390870247135607\n"
     ]
    }
   ],
   "source": [
    "# The transition for this line is a 4p to 4s\n",
    "\n",
    "# Constants\n",
    "h = 6.626 * 10 ** (-34)\n",
    "c = 3 * 10 ** 8\n",
    "k = 1.38 * 10 ** (-23)\n",
    "T = 5770\n",
    "\n",
    "# Calculation\n",
    "\n",
    "N2_N1 = 3 * np.exp(- h * c / 5166.3 * 10 ** 10 / (k * T))  ## Boltzmann Equation\n",
    "print('Ratio of Fe atoms in excited to ground state:', N2_N1)"
   ]
  },
  {
   "cell_type": "code",
   "execution_count": 54,
   "metadata": {},
   "outputs": [
    {
     "name": "stdout",
     "output_type": "stream",
     "text": [
      "Number density of neutral Fe atoms: 3.5120068494767514e+18\n"
     ]
    }
   ],
   "source": [
    "# Number density of neutral Fe atoms\n",
    "\n",
    "Neutral_N = N2_N1 * N1 + N1\n",
    "\n",
    "print('Number density of neutral Fe atoms:', Neutral_N)"
   ]
  },
  {
   "cell_type": "markdown",
   "metadata": {},
   "source": [
    "## 2. Ratio of neutral to ionized Fe atoms $\\frac{Na_{II}}{Na_{I}} = \\frac{2kT}{P_e} \\frac{Z_{II}}{Z_I} \\left(\\frac{2\\pi m_e kT}{h^2}\\right)^{3/2}\\exp{\\left(-\\frac{\\chi}{kT}\\right)}$,  \n"
   ]
  },
  {
   "cell_type": "code",
   "execution_count": 55,
   "metadata": {},
   "outputs": [
    {
     "name": "stdout",
     "output_type": "stream",
     "text": [
      "Ionized to Neutral Fe ratio: 8.899314274298392\n"
     ]
    }
   ],
   "source": [
    "# Ionization energy for Fe is 7.9024\n",
    "# Constants\n",
    "\n",
    "# Have not been able to find the partition function values for Fe\n",
    "    # (assuming they are different) so plugging in the given Z values\n",
    "ZI = 2.4\n",
    "ZII = 1\n",
    "Me = 9.1 * 10 ** (-31)\n",
    "# Ionization energy for Fe is 7.9024\n",
    "Chi = 7.9024\n",
    "\n",
    "# Calculation\n",
    "FeII_FeI = 2 * k * T * 1 / (2.4) * ((2 * np.pi * Me * k * T\n",
    "                                            / (h) ** 2)) ** (3/2) * np.exp(- Chi * 1.6 * 10 ** (-19) / (k * T))  ## Saha Equation\n",
    "print('Ionized to Neutral Fe ratio:', FeII_FeI)"
   ]
  },
  {
   "cell_type": "code",
   "execution_count": 56,
   "metadata": {},
   "outputs": [
    {
     "name": "stdout",
     "output_type": "stream",
     "text": [
      "Number density of Ionized Fe: 3.125445268698218e+19\n"
     ]
    }
   ],
   "source": [
    "# Number density of Ionized Fe\n",
    "\n",
    "Ion_N = FeII_FeI * Neutral_N\n",
    "\n",
    "print('Number density of Ionized Fe:', Ion_N)"
   ]
  },
  {
   "cell_type": "markdown",
   "metadata": {},
   "source": [
    "## 3. Total column density of Fe atoms $N_{1} \\times (1+\\frac{N_2}{N_1}) \\times (1+\\frac{Na_{II}}{Na_{I}})$"
   ]
  },
  {
   "cell_type": "code",
   "execution_count": 50,
   "metadata": {},
   "outputs": [
    {
     "name": "stdout",
     "output_type": "stream",
     "text": [
      "Total Fe atoms: 3.4766459536458932e+19\n"
     ]
    }
   ],
   "source": [
    "#Total number\n",
    "N_tot = N1 * (1 + N2_N1) * (1 + FeII_FeI)\n",
    "print('Total Fe atoms:', N_tot)"
   ]
  },
  {
   "cell_type": "markdown",
   "metadata": {},
   "source": [
    "## 4. Fe abundance relative to hydrogen"
   ]
  },
  {
   "cell_type": "code",
   "execution_count": 57,
   "metadata": {},
   "outputs": [
    {
     "name": "stdout",
     "output_type": "stream",
     "text": [
      "Fe Abundance: 7.721616530750593\n",
      "Official value for Sun: 7.5\n"
     ]
    }
   ],
   "source": [
    "#Finding the Fe abundance in the sun relative to Hydrogen\n",
    "ratio_part = N_tot / (6.6 * 10 ** 23)\n",
    "Fe_ab = 12 + np.log10(ratio_part)\n",
    "print('Fe Abundance:', Fe_ab)\n",
    "print('Official value for Sun:', 7.5)"
   ]
  },
  {
   "cell_type": "code",
   "execution_count": 61,
   "metadata": {},
   "outputs": [
    {
     "name": "stdout",
     "output_type": "stream",
     "text": [
      "0.22161653075059268\n",
      "-66.57757320498787\n"
     ]
    }
   ],
   "source": [
    "# Other ways of describing this relative abundance\n",
    "\n",
    "# At least according to the example notebook\n",
    "\n",
    "ratio_ph_sun = 10**(7.5 - 12)\n",
    "\n",
    "print(np.log10(ratio_part / ratio_ph_sun))\n",
    "\n",
    "print((ratio_ph_sun - ratio_part)/ ratio_ph_sun * 100)"
   ]
  }
 ],
 "metadata": {
  "kernelspec": {
   "display_name": "Python 3",
   "language": "python",
   "name": "python3"
  },
  "language_info": {
   "codemirror_mode": {
    "name": "ipython",
    "version": 3
   },
   "file_extension": ".py",
   "mimetype": "text/x-python",
   "name": "python",
   "nbconvert_exporter": "python",
   "pygments_lexer": "ipython3",
   "version": "3.8.5"
  }
 },
 "nbformat": 4,
 "nbformat_minor": 4
}
